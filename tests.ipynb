{
 "cells": [
  {
   "cell_type": "code",
   "execution_count": 1,
   "metadata": {},
   "outputs": [
    {
     "name": "stderr",
     "output_type": "stream",
     "text": [
      "2023-05-21 15:44:02.920 WARNING streamlit.runtime.caching.cache_data_api: No runtime found, using MemoryCacheStorageManager\n",
      "2023-05-21 15:44:02.923 WARNING streamlit.runtime.caching.cache_data_api: No runtime found, using MemoryCacheStorageManager\n",
      "2023-05-21 15:44:02.924 WARNING streamlit.runtime.caching.cache_data_api: No runtime found, using MemoryCacheStorageManager\n"
     ]
    }
   ],
   "source": [
    "import warnings\n",
    "import streamlit as st\n",
    "import pandas as pd\n",
    "import geopandas as gpd\n",
    "from plot import plotmap\n",
    "# from table import draw_table\n",
    "from data_processing import gerar_alunos\n",
    "from data_processing import gerar_escolas\n",
    "from model import aloca_alunos\n",
    "\n",
    "warnings.simplefilter(action='ignore', category=FutureWarning)"
   ]
  },
  {
   "cell_type": "code",
   "execution_count": 2,
   "metadata": {},
   "outputs": [],
   "source": [
    "bairros = r'recursos\\bairros\\bairros_rj.shp'\n",
    "gdf_bairros = gpd.read_file(bairros)\n",
    "polygon = gdf_bairros['geometry'][10]"
   ]
  },
  {
   "cell_type": "code",
   "execution_count": null,
   "metadata": {},
   "outputs": [],
   "source": [
    "num_alunos = 200\n",
    "num_seed = 0\n",
    "num_escolas = 5\n",
    "num_vagas = [5,20]\n",
    "\n",
    "gdf_alunos = gerar_alunos(polygon, num_alunos, num_seed)\n",
    "gdf_escolas = gerar_escolas(polygon, num_escolas, num_vagas, num_seed)\n",
    "df_alocacao = aloca_alunos(gdf_alunos, gdf_escolas, num_seed)"
   ]
  },
  {
   "cell_type": "code",
   "execution_count": 3,
   "metadata": {},
   "outputs": [],
   "source": [
    "import json\n",
    "import numpy as np\n",
    "def gera_nome_escola(probabilidade_meio=0.25):\n",
    "    with open(\"./recursos/nomes.json\", encoding='utf-8') as f:\n",
    "        nomes = json.load(f)\n",
    "    prefixo = np.random.choice(nomes['Prefixo'])\n",
    "    sufixo = np.random.choice(nomes['Sufixo'])\n",
    "    \n",
    "    if np.random.rand() < probabilidade_meio:\n",
    "        meio = np.random.choice(nomes['Meio'])\n",
    "        return \" \".join([prefixo, meio, sufixo])\n",
    "    \n",
    "    return \" \".join([prefixo, sufixo])"
   ]
  },
  {
   "cell_type": "code",
   "execution_count": 4,
   "metadata": {},
   "outputs": [
    {
     "name": "stdout",
     "output_type": "stream",
     "text": [
      "Jardim Escola Jardim Girassol\n",
      "Grupo Comunitário da Alegria\n",
      "Colégio Municipal Santo Saber\n",
      "Associação Luiz Antonio\n",
      "Instituto da Dinda\n",
      "Jardim Escola Cantinho Feliz Pinguinho de Gente\n",
      "Associação Santa Maria\n",
      "Escola do Dende\n",
      "Casa Escola de Manguinhos\n",
      "Instituto Santa Cruz\n",
      "Educandário de Leyla\n",
      "Centro Cultural Avelino\n",
      "Centro Educacional São José\n",
      "Associação Alegria Navarro Gaio\n",
      "Centro Comunitário Bezerra de Menezes\n",
      "Centro Educacional Coração de Mãe\n",
      "Colégio Estadual Miranda\n",
      "Centro Cultural do Céu\n",
      "Centro Cultural Cuidando Irmã Ancila\n",
      "Casa Escola Chave São Pedro\n",
      "Centro Cultural Irmão Francisco\n",
      "Espaço de Educação Alegria do Saber\n",
      "Fundação do Futuro\n",
      "Colégio Estadual Padre Anchieta\n",
      "Creche São Jorge\n",
      "Educandário Encanto de Maria\n",
      "Colégio Estadual Alegria Francisco de Assis\n",
      "Grupo Comunitário Jardim Alexandrino\n",
      "Casa Escola Bom Jesus da Penha\n",
      "Centro Cultural Cantinho Feliz Gente Baixinha\n",
      "Instituto da Semente\n",
      "Espaço de Educação Cuidando Padre Aleixo\n",
      "Escola Elite de Jacira\n",
      "Centro Cultural de Leyla\n",
      "Jardim Escola Tia Nane\n",
      "Jardim Escola Chácara de Luz\n",
      "Casa Escola Cantinho Feliz da Dinda\n",
      "Centro Educacional Guadalupe\n",
      "Grupo Comunitário Roupa Suja\n",
      "Colégio Municipal Isabel Maria\n",
      "Colégio Municipal Alegria do Amanhã\n",
      "Fundação Arca de Nóe\n",
      "Espaço de Educação Maria Dolores\n",
      "Casa Escola Cantinho Feliz de Nazaré\n",
      "Centro Comunitário Jardim Guadalupe\n",
      "Escola Chave Isabel Maria\n",
      "Centro Educacional Portas Abertas\n",
      "Centro Educacional da Natureza\n",
      "Grupo Comunitário Cuidando Ismenia Ribeiro\n",
      "Colégio Estadual Santa Esperança\n"
     ]
    }
   ],
   "source": [
    "for i in range(50):\n",
    "    print(gera_nome_escola())"
   ]
  },
  {
   "cell_type": "code",
   "execution_count": 5,
   "metadata": {},
   "outputs": [
    {
     "name": "stdout",
     "output_type": "stream",
     "text": [
      "Fundação do Saber\n"
     ]
    }
   ],
   "source": [
    "print(gera_nome_escola())"
   ]
  },
  {
   "cell_type": "code",
   "execution_count": 6,
   "metadata": {},
   "outputs": [
    {
     "name": "stdout",
     "output_type": "stream",
     "text": [
      "Colégio Municipal Sonhar\n"
     ]
    }
   ],
   "source": [
    "print(gera_nome_escola())"
   ]
  },
  {
   "cell_type": "code",
   "execution_count": 9,
   "metadata": {},
   "outputs": [],
   "source": [
    "def gera_nome_escola(probabilidade_meio=0.25, seed=10):\n",
    "    np.random.seed(seed)\n",
    "    with open(\"./recursos/nomes.json\", encoding='utf-8') as f:\n",
    "        nomes = json.load(f)\n",
    "    prefixo = np.random.choice(nomes['Prefixo'])\n",
    "    sufixo = np.random.choice(nomes['Sufixo'])\n",
    "\n",
    "    if np.random.rand() < probabilidade_meio:\n",
    "        meio = np.random.choice(nomes['Meio'])\n",
    "        return \" \".join([prefixo, meio, sufixo])\n",
    "    \n",
    "    return \" \".join([prefixo, sufixo])"
   ]
  },
  {
   "cell_type": "code",
   "execution_count": 13,
   "metadata": {},
   "outputs": [
    {
     "data": {
      "text/plain": [
       "'Espaço de Educação Zulmira Telles'"
      ]
     },
     "execution_count": 13,
     "metadata": {},
     "output_type": "execute_result"
    }
   ],
   "source": [
    "gera_nome_escola(seed=12)"
   ]
  },
  {
   "cell_type": "code",
   "execution_count": 14,
   "metadata": {},
   "outputs": [],
   "source": [
    "def gera_nome_escola(probabilidade_meio=0.25, seed=None):\n",
    "    if seed:\n",
    "        np.random.seed(seed)\n",
    "        \n",
    "    with open(\"./recursos/nomes.json\", encoding='utf-8') as f:\n",
    "        nomes = json.load(f)\n",
    "    prefixo = np.random.choice(nomes['Prefixo'])\n",
    "    sufixo = np.random.choice(nomes['Sufixo'])\n",
    "\n",
    "    if np.random.rand() < probabilidade_meio:\n",
    "        meio = np.random.choice(nomes['Meio'])\n",
    "        return \" \".join([prefixo, meio, sufixo])\n",
    "    \n",
    "    return \" \".join([prefixo, sufixo])"
   ]
  },
  {
   "cell_type": "code",
   "execution_count": 40,
   "metadata": {},
   "outputs": [
    {
     "data": {
      "text/plain": [
       "'Jardim Escola Pintinho Dourado'"
      ]
     },
     "execution_count": 40,
     "metadata": {},
     "output_type": "execute_result"
    }
   ],
   "source": [
    "gera_nome_escola()"
   ]
  }
 ],
 "metadata": {
  "kernelspec": {
   "display_name": "Python 3",
   "language": "python",
   "name": "python3"
  },
  "language_info": {
   "codemirror_mode": {
    "name": "ipython",
    "version": 3
   },
   "file_extension": ".py",
   "mimetype": "text/x-python",
   "name": "python",
   "nbconvert_exporter": "python",
   "pygments_lexer": "ipython3",
   "version": "3.10.10"
  },
  "orig_nbformat": 4
 },
 "nbformat": 4,
 "nbformat_minor": 2
}
